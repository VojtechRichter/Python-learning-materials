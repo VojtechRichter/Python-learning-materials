{
 "cells": [
  {
   "cell_type": "markdown",
   "metadata": {},
   "source": [
    "# Datové typy\n",
    "Každá proměnná má svůj datový typ, a to podle toho, jakou v sobě drží hodnotu.\n",
    "Na levé straně je hodnota, kterou proměnná drží, a vpravo příslušný datový typ, v závorce zapsaný v Pythonu.\n",
    "Reálné číslo = integer(int)\n",
    "Text libovolné délky(řětězec) = string(str)\n",
    "Desetinné číslo = float(float)\n",
    "Pravda a nepravda(bit) = boolean(bool - True nebo False)\n",
    "\n"
   ]
  },
  {
   "cell_type": "markdown",
   "metadata": {},
   "source": [
    "# Funkce type()\n",
    "Funkce type nám vrátí datový typ proměnné kterou dáme do jejího argumentu.\n",
    "Pro vypsání výsledku funkce do konzole, použijeme funkci print"
   ]
  },
  {
   "cell_type": "markdown",
   "metadata": {},
   "source": [
    "Příklad použítí:"
   ]
  },
  {
   "cell_type": "code",
   "execution_count": 3,
   "metadata": {},
   "outputs": [
    {
     "name": "stdout",
     "output_type": "stream",
     "text": [
      "<class 'int'>\n",
      "<class 'str'>\n",
      "<class 'bool'>\n",
      "<class 'float'>\n"
     ]
    }
   ],
   "source": [
    "number = 34\n",
    "name = \"Honza\"\n",
    "boolean_value = False\n",
    "another_number = 56.981\n",
    "\n",
    "print(type(number))\n",
    "print(type(name))\n",
    "print(type(boolean_value))\n",
    "print(type(another_number))"
   ]
  },
  {
   "cell_type": "markdown",
   "metadata": {},
   "source": [
    "Co znamená slovo `class` zjistíme později."
   ]
  },
  {
   "cell_type": "markdown",
   "metadata": {},
   "source": [
    "# Přetypování\n",
    "Pomocí funkcionality přetypování lze datový typ proměnné přetypovat na jiný datový typ."
   ]
  },
  {
   "cell_type": "code",
   "execution_count": null,
   "metadata": {},
   "outputs": [],
   "source": [
    "promenna = 64 # int\n",
    "promenna2 = float(promenna)\n",
    "cislo = 12\n",
    "retezec = str(cislo)"
   ]
  },
  {
   "cell_type": "markdown",
   "metadata": {},
   "source": [
    "Přetypování se může hodit např. když chceme ze vstupu dostat přímo číslo, ne řetězec."
   ]
  },
  {
   "cell_type": "code",
   "execution_count": null,
   "metadata": {},
   "outputs": [],
   "source": [
    "my_integer = int(input(\"Zadejte cislo:\"))"
   ]
  },
  {
   "cell_type": "markdown",
   "metadata": {},
   "source": [
    "# Základní operátory a operace s nimi\n",
    "Operátory používame mezi dvěma hodnotami, např. ty matematické pro matematické operace."
   ]
  },
  {
   "cell_type": "markdown",
   "metadata": {},
   "source": [
    "Jak už šlo poznat z předchozích bloků kódu, operátor `=` přiřadí hodnotu z pravé strany do proměnné na levé straně."
   ]
  },
  {
   "cell_type": "markdown",
   "metadata": {},
   "source": [
    "||Matematické operátory||||\n",
    "|---|----------|---|---|---|\n",
    "| + | sčítání  |---|---|---|\n",
    "| - | odčítání |---|---|---|\n",
    "| * | násobení |---|---|---|\n",
    "| / | dělení   |---|---|---|\n",
    "|** |mocnina|---|---|---|\n",
    "|// |celočíselné dělění|---|---|---|\n",
    "| % |modulo|---|---|---|"
   ]
  },
  {
   "cell_type": "markdown",
   "metadata": {},
   "source": [
    "Celočíselné dělení nám vrátí zaokrouhlený výsledek dělení.\n",
    "Modulo nám vratí zbytek dělení."
   ]
  },
  {
   "cell_type": "code",
   "execution_count": null,
   "metadata": {},
   "outputs": [],
   "source": [
    "scitani = 15 + 32 # 47\n",
    "odcitani = 65 - 7 # 58\n",
    "nasobeni = 6 * 2 # 18\n",
    "deleni = 42 / 6 # 7\n",
    "mocnina = 5 ** 2 # 25\n",
    "deleni2 = 10 // 3 # 3\n",
    "modulo = 30 % 7 # 2"
   ]
  },
  {
   "cell_type": "markdown",
   "metadata": {},
   "source": [
    "Operátory mohou pracovat i proměnnými."
   ]
  },
  {
   "cell_type": "code",
   "execution_count": null,
   "metadata": {},
   "outputs": [],
   "source": [
    "vysledek1 = scitani * odcitani\n",
    "vysledek2 = modulo + nasobeni"
   ]
  },
  {
   "cell_type": "markdown",
   "metadata": {},
   "source": [
    "Dále existuje operátor `==` pro kontorolu rovnosti dvou hodnot. Výsledkem je buď True, nebo False."
   ]
  },
  {
   "cell_type": "code",
   "execution_count": 4,
   "metadata": {},
   "outputs": [
    {
     "name": "stdout",
     "output_type": "stream",
     "text": [
      "False\n",
      "False\n",
      "True\n",
      "False\n"
     ]
    }
   ],
   "source": [
    "print(2 == 5)\n",
    "print(True == False)\n",
    "print(\"ahoj\" == \"ahoj\")\n",
    "print(\"jedna\" == \"dva\")"
   ]
  },
  {
   "cell_type": "markdown",
   "metadata": {},
   "source": [
    "Operátory lze kombinovat tak, že nám usnadní psaní.\n",
    "Např. kdybychom chtěli přičíst hodnotu do proměnné, zapsali bychom to následovně:"
   ]
  },
  {
   "cell_type": "code",
   "execution_count": null,
   "metadata": {},
   "outputs": [],
   "source": [
    "var = 0\n",
    "var = var + 2"
   ]
  },
  {
   "cell_type": "markdown",
   "metadata": {},
   "source": [
    "Tento kus kódu přičte hodnotu 2 k proměnné."
   ]
  },
  {
   "cell_type": "markdown",
   "metadata": {},
   "source": [
    "Zápis jde však zjednodušit:"
   ]
  },
  {
   "cell_type": "code",
   "execution_count": null,
   "metadata": {},
   "outputs": [],
   "source": [
    "var += 2 # přičte k proměnné var 2"
   ]
  },
  {
   "cell_type": "markdown",
   "metadata": {},
   "source": [
    "Tento zápis jde použít pro všechny matematické operace:"
   ]
  },
  {
   "cell_type": "code",
   "execution_count": null,
   "metadata": {},
   "outputs": [],
   "source": [
    "var -= 2 # odečte od proměnné var 2\n",
    "var *= 2 # vynásobí proměnnou dvěma\n",
    "var /= 2 # odečte od proměnné 2\n",
    "var %= 2 # vydělí proměnnou dvěma a uloží do ní zbytek"
   ]
  },
  {
   "cell_type": "markdown",
   "metadata": {},
   "source": [
    "# Cvičení"
   ]
  },
  {
   "cell_type": "markdown",
   "metadata": {},
   "source": [
    "# 1"
   ]
  },
  {
   "cell_type": "markdown",
   "metadata": {},
   "source": [
    "Napiš program, který ze vstupu přijme dvě desetinná čísla. Jejich součet umocní na třetí, vydělí číslem pí(3.14).\n",
    "Na nový řádek vypíše výsledek mezera datový typ výsledku."
   ]
  },
  {
   "cell_type": "markdown",
   "metadata": {},
   "source": [
    "Příklady výsledků pro Vaší kontrolu:\n",
    "- pro vstup 4.32 a 12.9: 1626.1844101910824 <class 'float'>\n",
    "- pro vstup 2.543 a 1.77: 25.55104850222931 <class 'float'>"
   ]
  },
  {
   "cell_type": "markdown",
   "metadata": {},
   "source": [
    "# 2"
   ]
  },
  {
   "cell_type": "markdown",
   "metadata": {},
   "source": [
    "Načtěte od uživatele celé číslo(užijte přetypování) a vynásobte ho dvěma. Načtěte druhé celé číslo, celočíselně ho vydělte třemi,\n",
    "a vypište na obrazovku výsledek rovnosti těchto dvou čísel."
   ]
  },
  {
   "cell_type": "markdown",
   "metadata": {},
   "source": [
    "Příklady výsledků pro Vaší kontrolu:\n",
    "- Pro vstup 12 a 54: False\n",
    "- Pro vstup 98 a 114: False"
   ]
  },
  {
   "cell_type": "markdown",
   "metadata": {},
   "source": [
    "# 3"
   ]
  },
  {
   "cell_type": "markdown",
   "metadata": {},
   "source": [
    "Načtěte ze vstupu libvolné číslo, umocněte modulo sedmi zadaného čísla na druhou, vydělte ho 1/4,\n",
    "a vypište jeho pátou mocninu.\n",
    "Na další řádek vypiště datový typ výsledného čísla."
   ]
  },
  {
   "cell_type": "markdown",
   "metadata": {},
   "source": [
    "Příklady výsledků pro Vaší kontrolu:\n",
    "- Pro vstup 6: 61917364224.0\n",
    "- <class 'float'>\n",
    "- Pro vstup 21: 0.0\n",
    "- <class 'float'>"
   ]
  }
 ],
 "metadata": {
  "interpreter": {
   "hash": "f50fc77e20a9bbc9d5ef6054f2f68d7d6c4ea5f01cdcf25c8f6a2136f5976a60"
  },
  "kernelspec": {
   "display_name": "Python 3.9.7 64-bit (windows store)",
   "name": "python3"
  },
  "language_info": {
   "codemirror_mode": {
    "name": "ipython",
    "version": 3
   },
   "file_extension": ".py",
   "mimetype": "text/x-python",
   "name": "python",
   "nbconvert_exporter": "python",
   "pygments_lexer": "ipython3",
   "version": "3.9.7"
  },
  "orig_nbformat": 4
 },
 "nbformat": 4,
 "nbformat_minor": 2
}
