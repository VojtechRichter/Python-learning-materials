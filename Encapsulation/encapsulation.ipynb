{
  "nbformat": 4,
  "nbformat_minor": 0,
  "metadata": {
    "colab": {
      "name": "encapsulation.ipynb",
      "provenance": [],
      "collapsed_sections": [],
      "toc_visible": true
    },
    "kernelspec": {
      "name": "python3",
      "display_name": "Python 3"
    },
    "language_info": {
      "name": "python"
    }
  },
  "cells": [
    {
      "cell_type": "markdown",
      "metadata": {
        "id": "UK0mSpUz2cAa"
      },
      "source": [
        "# Zapouzdření"
      ]
    },
    {
      "cell_type": "markdown",
      "metadata": {
        "id": "IPYgQHfw2gNg"
      },
      "source": [
        "Velmi často chceme, aby atributy (vlastnosti) měly jen některé hodnoty. Python jako takový nezná význam našeho programu - a nemá tedy šanci poznat, zda se nám někde neobjevil nesmyslný výsledek, nebo hodnota. Nesmyslný je totiž pouze pro nás (v naší hře). Pro Python je to prostě nějaké číslo.\n",
        "Ještě doplním, že v Pythonu nemá \"zapouzdření\" zcela stejný význam jako např. v Javě nebo C++. Přistupujte prosím k této kapitole s rezervou - jde nám hlavně o princip."
      ]
    },
    {
      "cell_type": "markdown",
      "metadata": {
        "id": "Fgz7pfVy3Nmm"
      },
      "source": [
        "*V případě aut chceme, aby v atributu \"barva\" byly jen názvy barev a v souřadnicích (atributech) \"x\" a \"y\" nebyly záporná čísla - byly bychom totiž mumi mapu (obrazovku). Samozřejmě si můžete vymyslet i další omezení.\n",
        "Tomu, aby auto nevyjelo mimo obrazovku na druhou stranu (vpravo a dolů) se zde zatím věnovat nebudeme. Situace je stejná, jako v případě zaáporných čísel (vlevo a nahoru), jen musíme znát velikost mapy. Zatím zde žádnou mapu nemáme a tedy ani nevíme její velikost...*"
      ]
    },
    {
      "cell_type": "markdown",
      "metadata": {
        "id": "ywUG9zj04DOx"
      },
      "source": [
        "Bohužel, není možné někam přímo zapsat, jaké hodnoty chceme v jakém atributu. Musíme zapsat do kódu příkazy, které pohlídají, zda je hodnota taková, jakou chceme."
      ]
    },
    {
      "cell_type": "code",
      "metadata": {
        "id": "JBPO8QoE4P-f"
      },
      "source": [
        "class Auto:\n",
        "    def __init__(self, zadane_x, zadane_y, zadana_barva, zadana_rychlost):\n",
        "        # self.__x = zadane_x atribut \"schováme\" tak, že začíná na dvě podtržítka\n",
        "        # - říkáme, že je \"private\"\n",
        "        self.setX(zadane_x)\n",
        "\n",
        "        self.y = zadane_y\n",
        "        self.barva = zadana_barva\n",
        "        self.rychlost = zadana_rychlost\n",
        "\n",
        "    def setX(self, hodnota):\n",
        "        if hodnota < 0:\n",
        "            self.__x = 0\n",
        "        else:\n",
        "            self.__x = hodnota\n",
        "\n",
        "    def getX(self): # Vytvoříme metodu \"setX\" a zavoláme ji pokaždé, když budeme\n",
        "    # měnit hodnotu \"x\".\n",
        "    # Tedy se při každé změně spustí příkazy 11-14, které hlídají správnou hodnotu \"x\".\n",
        "        return self.__x\n",
        "\n",
        "    def jed(self):\n",
        "        self.setX(self.__x + 1) # Metodu \"setX\" používáme všude, kde měníme hodnotu \"x\"\n",
        "\n",
        "    def vypis_se(self):\n",
        "        print(self.barva, \" - x: \", self.__x, \" y: \", self.y)\n",
        "\n",
        "trabant = Auto(-4, 2, \"cervena\", 5)\n",
        "skoda = Auto(13, 14, \"modra\", 5)\n",
        "ferrari = Auto(25, 26, \"zelena\", 5)\n",
        "\n",
        "trabant.jed()\n",
        "trabant.vypis_se()\n",
        "skoda.setX(-78)\n",
        "skoda.vypis_se()\n",
        "x_of_skoda = skoda.getX() # Kdykoliv potřebujeme přečíst hodnotu \"x\" mimo třídu,\n",
        "# použijeme metodu \"getX\", která nám ji vrátí (pošle do místa, kde jsme metodu zavolali)."
      ],
      "execution_count": null,
      "outputs": []
    },
    {
      "cell_type": "markdown",
      "metadata": {
        "id": "39LZjCpY6yyR"
      },
      "source": [
        "**Private - zkrytí atributu**"
      ]
    },
    {
      "cell_type": "markdown",
      "metadata": {
        "id": "t_8s4y_462-u"
      },
      "source": [
        "Aby nebylo možné zapsat do atributu jakoukoliv hodnotu, je potřeba tento atribut schovat. Náš kód může používat i někdo jiný než my - a ten nemusí nic vědět o významu jenotlivých proměnných (atributů) a mohl by do něj napsat nějaký nesmysl. Také se při složitějších operacích může stát, že prostě neuhlídáme hodnotu, kterou do atributu zapisujeme.\n",
        "Takovému schování říkáme, že je atribut private. Není dostupný \"zvnějšku\" - tedy se k němu nedostaneme mimo kód třídy, které atribut patří.\n",
        "Abychom z atributu veřejného udělali atribut \"private\", připíšeme před jeho název dvě podtržítka (např. x -> __x)."
      ]
    },
    {
      "cell_type": "markdown",
      "metadata": {
        "id": "aI_Kt6847t-p"
      },
      "source": [
        "**Setter**"
      ]
    },
    {
      "cell_type": "markdown",
      "metadata": {
        "id": "uRNwh70d7zp9"
      },
      "source": [
        "Hodnotu atributů potřebujeme měnit na spoustě míst v programu - když objekt vytváříme, ve chvíli, kdy se ve hře něco děje (např. má auto popojet). Je proto výhodné zapsat jeden kousek kódu, který umí pohlídat hodnotu atributu a tento kousek kódu použít na všech místech, kde hodnotu měníme. Takovému kousku kódu, který lze použít vícekrát, se říká funkce (funkci patřící k objektu se říká metoda). Tato funkce má za úkol nastavit hodnotu atributu (a pohlídat ji). Proto jí říkáme setter. Obyklé je, že se funkce jmenuje \"setNazevAtributu\" - může se samozřejmě jmenovat jakkoliv, ale je lepší dodržet tuto \"normu\"."
      ]
    },
    {
      "cell_type": "markdown",
      "metadata": {
        "id": "uqY1i_S-8tLx"
      },
      "source": [
        "**Getter**"
      ]
    },
    {
      "cell_type": "markdown",
      "metadata": {
        "id": "CQp7R-tl8vS9"
      },
      "source": [
        "Protože jsme z atributu udělali atribut private - tedy není dostupný mimo třídu, nemohli bychom se ani podívat, co je v něm uloženo (přečíst ho).\n",
        "My však potřebujeme znát hodnotu atributů i mimo třídu (abychom mohli auto nakreslit, musíme vědět, kde je).\n",
        "K přečtení hodnoty private atributů slouží metoda, které se říká getter. Nedělá nic jiného, než že se podívá na hodnotu atributu a vrátí ho - pošle do místa, kde jsme getter zavolali. Stejně jako u setterů se metoda obvykle nazývá \"getNazevAtributu\" - tento název není nutný, ale je nanejvýš vhodné ho dodržet."
      ]
    },
    {
      "cell_type": "markdown",
      "metadata": {
        "id": "ma-bv1ZO9cms"
      },
      "source": [
        "**Opravu Pythonovský zápis**"
      ]
    },
    {
      "cell_type": "markdown",
      "metadata": {
        "id": "DopR0rDG9gkg"
      },
      "source": [
        "Předchozí kód je zjednodušený, nebylo by totiž pohodlné psát všude \"setX\" a \"getX\" a navíc má takový kód i další nepěkné vlastnosti. Pro naše použití ve škole postačí, ale pro ty, kteří by chtěli mít kód opravdu Pythonovsky správný příkládám ukázku, jak to udělat doopravdy."
      ]
    },
    {
      "cell_type": "code",
      "metadata": {
        "id": "bEPVLD2s-EdF"
      },
      "source": [
        "class Auto:\n",
        "    def __init__(self, zadane_x, zadane_y, zadana_barva, zadana_rychlost):\n",
        "        self.x = zadane_x\n",
        "        self.y = zadane_y\n",
        "        self.barva = zadana_barva\n",
        "        self.rychlost = zadana_rychlost\n",
        "    \n",
        "    @property\n",
        "    def x(self): # Getter vytvoříme tak, že před tuto metodu zapíšeme \"@property\"\n",
        "    # a můžeme tuto metodu pojmenovat stejně jako atribut. Pozor - musíme ho\n",
        "    # vytvořit před vytvořením setteru.\n",
        "        return self.__x\n",
        "\n",
        "    @x.setter\n",
        "    def x(self, hodnota):# Setter vytvoříme tak, že na řádek před něj zapíšeme \"@NazevAtributu.setter\"\n",
        "    # a můžeme tuto metodu pojmenovat stejně jako atribut. Tím se tato metoda spustí pokaždé,\n",
        "    # když budeme zapisovat do atributu.\n",
        "        if hodnota < 0:\n",
        "            self.__x = 0\n",
        "        else:\n",
        "            self.__x = hodnota\n",
        "\n",
        "    def jed(self):\n",
        "        self.x = self.x + 1 # Setter voláme jednoduše tak, jako by byl atribut\n",
        "        # veřejný. Setter se ale spustí.\n",
        "\n",
        "    def vypis_se(self):\n",
        "        print(self.barva, \" - x: \", self.x, \" y: \", self.y)\n",
        "\n",
        "trabant = Auto(-4, 2, \"cervena\", 5)\n",
        "skoda = Auto(13, 14, \"modra\", 5)\n",
        "ferrari = Auto(25, 26, \"zelena\", 5)\n",
        "\n",
        "trabant.jed()\n",
        "trabant.vypis_se()\n",
        "skoda.x = -78\n",
        "skoda.vypis_se()\n",
        "x_of_skoda = skoda.x # Getter voláme také tak, jako by atribut byl veřejný."
      ],
      "execution_count": null,
      "outputs": []
    }
  ]
}