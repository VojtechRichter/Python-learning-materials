{
  "nbformat": 4,
  "nbformat_minor": 0,
  "metadata": {
    "colab": {
      "name": "for_loop.ipynb",
      "provenance": [],
      "collapsed_sections": []
    },
    "kernelspec": {
      "name": "python3",
      "display_name": "Python 3"
    },
    "language_info": {
      "name": "python"
    }
  },
  "cells": [
    {
      "cell_type": "markdown",
      "metadata": {
        "id": "EYcVu7x2Ocam"
      },
      "source": [
        "# For cyklus\n",
        "Tento cyklus slouží k opakování části kódu do té doby, dokud je splněna podmínka.\n",
        "For cyklus vypadá takto:\n",
        "```\n",
        "for řídící proměnná in range(počet opakování, počet kroků):\n",
        "    tělo cyklu\n",
        "```\n",
        "Skládá se z tzn. řídící proměnné, ve které je uloženo číslo kroku. Pomocí funkce range řekneme interpretu že chceme procházet nějaký rozsah čísel.\n",
        "Jednoduchá ukázka for cyklu, který vypíše čísla od 0 do 9:"
      ]
    },
    {
      "cell_type": "code",
      "metadata": {
        "colab": {
          "base_uri": "https://localhost:8080/"
        },
        "id": "hgqn6Y23RGEJ",
        "outputId": "c60dee8e-d47f-40d3-b50c-5d425d8fc83a"
      },
      "source": [
        "for i in range(10):\n",
        "    print(i)"
      ],
      "execution_count": null,
      "outputs": [
        {
          "output_type": "stream",
          "name": "stdout",
          "text": [
            "0\n",
            "1\n",
            "2\n",
            "3\n",
            "4\n",
            "5\n",
            "6\n",
            "7\n",
            "8\n",
            "9\n"
          ]
        }
      ]
    },
    {
      "cell_type": "markdown",
      "metadata": {
        "id": "qdKBM2QqRwD1"
      },
      "source": [
        "V jednoduchých for cyklech uvidíte většinou jako řídící proměnnou písmeno i.. Kdo ví kdo s tím přišel, ale programátor je líný, proto jedno písmenko :). Nenechte se zmást, místo písmena i může být cokoliv jiného, je to jen taková nepsaná konvence."
      ]
    },
    {
      "cell_type": "markdown",
      "metadata": {
        "id": "0joAWhiGRSPW"
      },
      "source": [
        "Číslem v argumentu funkce říkáme, že chceme tělo for cyklu opakovat 10x. For cyklus ovšem defaultně začíná na nule pokud mu neřekneme jinak. Následující kód vypíše čísla od 5 do 15:"
      ]
    },
    {
      "cell_type": "code",
      "metadata": {
        "colab": {
          "base_uri": "https://localhost:8080/"
        },
        "id": "oBJx5_abSL2q",
        "outputId": "2a309274-5f97-49da-9634-f9e3bafd02a2"
      },
      "source": [
        "for i in range(5, 16):\n",
        "    print(i)"
      ],
      "execution_count": null,
      "outputs": [
        {
          "output_type": "stream",
          "name": "stdout",
          "text": [
            "5\n",
            "6\n",
            "7\n",
            "8\n",
            "9\n",
            "10\n",
            "11\n",
            "12\n",
            "13\n",
            "14\n",
            "15\n"
          ]
        }
      ]
    },
    {
      "cell_type": "markdown",
      "metadata": {
        "id": "Ats0f4i4SmjM"
      },
      "source": [
        "Dále je potřeba zdůraznit, že definice rozsahu ve for cyklu funguje tak, že číslo na kterém začíná je součástí cyklu, ale číslo do kterého cyklus běží, už součástí není. Proto když chceme čísla od 5 do 15, a chceme výstup i s číslem 15, je nutno napsat že cyklus poběží do 16. Kdybychom do argumentů funkce range napsali jen (5, 15), Vypsala by se čísla od 5 pouze do 14."
      ]
    },
    {
      "cell_type": "markdown",
      "metadata": {
        "id": "u5ahfH37WKea"
      },
      "source": [
        "Z předchozích ukázek jde vyčíst, že řídící proměnná se ve výchozím stavu po každém cyklu příčítá o jedna. Pokud chceme velikost jednoho kroku změnit, definujeme tak v argumentech funkce range. Jelikož je velikost kroku až třetí parametr, musíme specifikovat i počáteční hodnotu."
      ]
    },
    {
      "cell_type": "code",
      "metadata": {
        "colab": {
          "base_uri": "https://localhost:8080/"
        },
        "id": "oILA-V7kUKj6",
        "outputId": "ccb5df92-f086-4cbc-fe0a-668e15b90b84"
      },
      "source": [
        "moje_cislo = 23\n",
        "for cislo in range(0, moje_cislo, 4):\n",
        "    print(cislo)"
      ],
      "execution_count": null,
      "outputs": [
        {
          "output_type": "stream",
          "name": "stdout",
          "text": [
            "0\n",
            "4\n",
            "8\n",
            "12\n",
            "16\n",
            "20\n"
          ]
        }
      ]
    },
    {
      "cell_type": "markdown",
      "metadata": {
        "id": "PUO0z5ivWCth"
      },
      "source": [
        "# For cyklus pro iteraci datovými strukturami"
      ]
    },
    {
      "cell_type": "markdown",
      "metadata": {
        "id": "mn1y2wMFUeC-"
      },
      "source": [
        "For cyklus se ale kromě opakování nějaké části kódu dá použít i na jiné věci, např. procházení stringu, nebo jakékoliv datové struktury.\n",
        "Dejme tomu že máme string který jsme dostali ze vstupu od uživatele, a my bychom ho chtěli vypsat stylem - jedno písmeno jeden řádek."
      ]
    },
    {
      "cell_type": "code",
      "metadata": {
        "colab": {
          "base_uri": "https://localhost:8080/"
        },
        "id": "epbFvOIGU_LH",
        "outputId": "f64bb1aa-b48f-4688-c721-e34a2e6dbd86"
      },
      "source": [
        "vstup = input(\"Zadejte libovolny retezec: \")\n",
        "\n",
        "for pismeno in vstup:\n",
        "    print(pismeno, end=\"\\n\")"
      ],
      "execution_count": null,
      "outputs": [
        {
          "output_type": "stream",
          "name": "stdout",
          "text": [
            "Zadejte libovolny retezec: ahoj\n",
            "a\n",
            "h\n",
            "o\n",
            "j\n"
          ]
        }
      ]
    },
    {
      "cell_type": "markdown",
      "metadata": {
        "id": "KVuhZaYuVSNm"
      },
      "source": [
        "Syntaxe je stejná jako při opakování kódu, akorát místo funkce range zadáme strukturu kterou chceme procházet, např. string. Argument end=\"\\n\" ve funkci print říká, co chceme dát na konec výstupu funkce print, v tomhle případě nový řádek."
      ]
    },
    {
      "cell_type": "markdown",
      "metadata": {
        "id": "x0GMayizXeiL"
      },
      "source": [
        "# Procházení listu"
      ]
    },
    {
      "cell_type": "markdown",
      "metadata": {
        "id": "_LkQYTWz36Jc"
      },
      "source": [
        "For cyklus lze také použít pro iteraci listem, resp. jednotlivými elementy listu."
      ]
    },
    {
      "cell_type": "code",
      "metadata": {
        "colab": {
          "base_uri": "https://localhost:8080/"
        },
        "id": "xxtKXuy24F_r",
        "outputId": "3de818a1-9cfa-43cd-ad73-f7146288b5a2"
      },
      "source": [
        "for item in [12, 21, 90, 48, 50, 83]:\n",
        "  if item % 2 == 0:\n",
        "    print(item)"
      ],
      "execution_count": 2,
      "outputs": [
        {
          "output_type": "stream",
          "name": "stdout",
          "text": [
            "12\n",
            "90\n",
            "48\n",
            "50\n"
          ]
        }
      ]
    },
    {
      "cell_type": "code",
      "metadata": {
        "colab": {
          "base_uri": "https://localhost:8080/"
        },
        "id": "AmG3CWLV4uRj",
        "outputId": "780c5980-9825-45c5-c69a-f56e613989d4"
      },
      "source": [
        "my_list = [\"Honza\", \"Matej\", \"Petr\", \"Jakub\"]\n",
        "\n",
        "for jmeno in my_list:\n",
        "  print(jmeno)"
      ],
      "execution_count": 3,
      "outputs": [
        {
          "output_type": "stream",
          "name": "stdout",
          "text": [
            "Honza\n",
            "Matej\n",
            "Petr\n",
            "Jakub\n"
          ]
        }
      ]
    },
    {
      "cell_type": "markdown",
      "metadata": {
        "id": "LFTDfOHaDhSt"
      },
      "source": [
        "# Enumerate"
      ]
    },
    {
      "cell_type": "markdown",
      "metadata": {
        "id": "l2svjX-6Dvdn"
      },
      "source": [
        "Funkce enumerate slouží také pro procházení posloupnosti čísel, stringu, nebo libovolné datové struktury(např. list), ale mimo uchovávání jednotlivých elementů ještě ukládá index každého elementu."
      ]
    },
    {
      "cell_type": "markdown",
      "metadata": {
        "id": "Br7z_BhoESz6"
      },
      "source": [
        "Bez funkce enumerate by tahle situace vypadala např. takhle:"
      ]
    },
    {
      "cell_type": "code",
      "metadata": {
        "colab": {
          "base_uri": "https://localhost:8080/"
        },
        "id": "cET_yvEQEbRf",
        "outputId": "7ac07042-8b74-499f-8cca-8aab8cadab94"
      },
      "source": [
        "hodnoty = [\"a\", \"b\", \"c\", \"d\"]\n",
        "\n",
        "index = 0\n",
        "\n",
        "for i in hodnoty:\n",
        "  print(index, i)\n",
        "  index += 1"
      ],
      "execution_count": 5,
      "outputs": [
        {
          "output_type": "stream",
          "name": "stdout",
          "text": [
            "0 a\n",
            "1 b\n",
            "2 c\n",
            "3 d\n"
          ]
        }
      ]
    },
    {
      "cell_type": "markdown",
      "metadata": {
        "id": "g2wgEOQLE2t1"
      },
      "source": [
        "Nebo třeba takle:"
      ]
    },
    {
      "cell_type": "code",
      "metadata": {
        "colab": {
          "base_uri": "https://localhost:8080/"
        },
        "id": "TICBqwWJE8wH",
        "outputId": "3f782d22-09dd-441c-e30f-5b593e451c82"
      },
      "source": [
        "for index in range(len(hodnoty)):\n",
        "  hodnota = hodnoty[index]\n",
        "  print(index, hodnota)"
      ],
      "execution_count": 6,
      "outputs": [
        {
          "output_type": "stream",
          "name": "stdout",
          "text": [
            "0 a\n",
            "1 b\n",
            "2 c\n",
            "3 d\n"
          ]
        }
      ]
    },
    {
      "cell_type": "markdown",
      "metadata": {
        "id": "cqYX01u1FLJE"
      },
      "source": [
        "Ovšem s funkcí enumerate si lze tento problém značně zjednodušit:"
      ]
    },
    {
      "cell_type": "code",
      "metadata": {
        "colab": {
          "base_uri": "https://localhost:8080/"
        },
        "id": "ks-WDBxwFVF3",
        "outputId": "3f3142f4-78ec-49f7-e45b-e000f59c2518"
      },
      "source": [
        "for pocet, hodnota in enumerate(hodnoty):\n",
        "  print(pocet, hodnota)"
      ],
      "execution_count": 7,
      "outputs": [
        {
          "output_type": "stream",
          "name": "stdout",
          "text": [
            "0 a\n",
            "1 b\n",
            "2 c\n",
            "3 d\n"
          ]
        }
      ]
    },
    {
      "cell_type": "markdown",
      "metadata": {
        "id": "8xk-nXFJFhyw"
      },
      "source": [
        "Jako řídící proměnnou přídáme na první místo proměnnou do které se bude ukládát pořadí(index) hodnoty v daném cyklu. Za ní si zvolíme klasickou řídící proměnnou která se bude starat hodnotu procházené posloupnosti."
      ]
    },
    {
      "cell_type": "markdown",
      "metadata": {
        "id": "bG90w45JGJMq"
      },
      "source": [
        "Funkce enumerate ještě nabízí argument start, kterým říkáme na jaké číselné hodnotě bude indexovací řídící proměnná začínat. Ve výchozím stavu začíná samozřejmě na nule."
      ]
    },
    {
      "cell_type": "code",
      "metadata": {
        "colab": {
          "base_uri": "https://localhost:8080/"
        },
        "id": "NnMNGCJ-GXD-",
        "outputId": "d6a94d90-f14d-485f-baea-beafb0a9b5e5"
      },
      "source": [
        "for index, value in enumerate(hodnoty, start=2):\n",
        "  print(index, value)"
      ],
      "execution_count": 8,
      "outputs": [
        {
          "output_type": "stream",
          "name": "stdout",
          "text": [
            "2 a\n",
            "3 b\n",
            "4 c\n",
            "5 d\n"
          ]
        }
      ]
    },
    {
      "cell_type": "markdown",
      "metadata": {
        "id": "BJl4mRtrGtgJ"
      },
      "source": [
        "# Cvičení"
      ]
    },
    {
      "cell_type": "markdown",
      "metadata": {
        "id": "tkHrSBT0o2yY"
      },
      "source": [
        "# 1"
      ]
    },
    {
      "cell_type": "markdown",
      "metadata": {
        "id": "-cIvoK8vpBOU"
      },
      "source": [
        "Dokonči následující kód tak, aby vypsal všechna jména z listu, která obsahují písmeno e."
      ]
    },
    {
      "cell_type": "code",
      "metadata": {
        "id": "EPdlT0b6qFsD"
      },
      "source": [
        "jmena = [\"Josef\", \"Martin\", \"Petr\", \"Marek\", \"Tadeas\", \"Jiri\"]\n",
        "\n",
        "for jmeno in jmena:"
      ],
      "execution_count": null,
      "outputs": []
    },
    {
      "cell_type": "markdown",
      "metadata": {
        "id": "zgGAo1L-pu0E"
      },
      "source": [
        "Očeakávaný výstup:\n",
        "\n",
        "\n",
        "```\n",
        "Josef\n",
        "Petr\n",
        "Marek\n",
        "Tadeas\n",
        "```\n",
        "\n"
      ]
    },
    {
      "cell_type": "markdown",
      "metadata": {
        "id": "W5OUwRDDqabk"
      },
      "source": [
        "# 2"
      ]
    },
    {
      "cell_type": "markdown",
      "metadata": {
        "id": "z_NgWxBMqc4_"
      },
      "source": [
        "Vypiš všechna lichá čísla do 100 (užitím znalostí z této kapitoly)."
      ]
    },
    {
      "cell_type": "markdown",
      "metadata": {
        "id": "AsdnQTMarMEH"
      },
      "source": [
        "# 3"
      ]
    },
    {
      "cell_type": "markdown",
      "metadata": {
        "id": "5zcP7BI2ryTM"
      },
      "source": [
        "Projdi uvedený list jmen měst a podle uživatelského celočíselného vstupu vypiš město s indexem odpovídajícím uživatelskému vstupu. Jeho index a hodnotu vypiš na dva řádky zvlášť. Pokud uživatel zadá větší číslo než je možný index, vypiš zprávu: Chybný vstup"
      ]
    },
    {
      "cell_type": "code",
      "metadata": {
        "id": "szjMo6GwrU6J"
      },
      "source": [
        "vstup = int(input(\"Zadejte index mesta: \"))\n",
        "\n",
        "muj_list = [\n",
        "    \"Ostrava\",\n",
        "    \"Kladno\",\n",
        "    \"Praha\",\n",
        "    \"Liberec\",\n",
        "    \"Opava\",\n",
        "    \"Ceske Budejovice\",\n",
        "    \"Litomerice\"\n",
        "]"
      ],
      "execution_count": null,
      "outputs": []
    },
    {
      "cell_type": "markdown",
      "metadata": {
        "id": "Q0PSSIuytmit"
      },
      "source": [
        "Očekáváný výstup:\n",
        "Pro vstup 2:\n",
        "```\n",
        "2\n",
        "Praha\n",
        "```\n",
        "Pro vstup 5:\n",
        "```\n",
        "5\n",
        "Ceske Budejovice\n",
        "```\n",
        "Pro vstup 9:\n",
        "\n",
        "\n",
        "```\n",
        "Chybný vstup\n",
        "```\n",
        "\n",
        "\n",
        "\n",
        "\n",
        "\n",
        "\n"
      ]
    }
  ]
}