{
  "nbformat": 4,
  "nbformat_minor": 0,
  "metadata": {
    "colab": {
      "name": "Vetveni.ipynb",
      "provenance": []
    },
    "kernelspec": {
      "name": "python3",
      "display_name": "Python 3"
    },
    "language_info": {
      "name": "python"
    }
  },
  "cells": [
    {
      "cell_type": "markdown",
      "metadata": {
        "id": "GwSeZuPygz0U"
      },
      "source": [
        "# Podmínka - Větvení"
      ]
    },
    {
      "cell_type": "markdown",
      "metadata": {
        "id": "IdCRDMc4g4uX"
      },
      "source": [
        "Můžeme si představit, že program běží po jednotlivých větvích - proto tomu říkáme větvení. Stejně jako u větví na stromě se v nějakém místě programu můžeme vydat dvěma směry - po dvou různých větvích. Na rozdíl od větví na stromě se ale jednotlivé větve v programu mohou opět spojit do jedné."
      ]
    },
    {
      "cell_type": "markdown",
      "metadata": {
        "id": "a8W22z8ShZUC"
      },
      "source": [
        "# If"
      ]
    },
    {
      "cell_type": "markdown",
      "metadata": {
        "id": "zSeFJuTdhbea"
      },
      "source": [
        "Nejjednodušší podmínka \"if\" nám poslouží v případě, že chceme některé příkazy provést jen někdy - jen pokud je splěna daná podmínka. Pokud podmínka splněna není, příkazy se preskočí."
      ]
    },
    {
      "cell_type": "markdown",
      "metadata": {
        "id": "ztthkPZWh8Th"
      },
      "source": [
        "\n",
        "\n",
        "```\n",
        "trabant.jed() # Provede se vždy\n",
        "\n",
        "if trabant.je_v_domecku(): # Zjišťuje se, zda je trabant v domečku\n",
        "    trabant.dopln_palivo() # Provede se jen v případě, když je splněná \n",
        "    podmínka - v tomhle případě když je trabant v domečku, pokud v domečku není,\n",
        "    řádek se přeskočí\n",
        "\n",
        "trabant.jed() # Provede se vždy\n",
        "```\n",
        "\n"
      ]
    },
    {
      "cell_type": "markdown",
      "metadata": {
        "id": "9QIzCEYIjKA6"
      },
      "source": [
        "Za klíčové slovo \"if\" píšeme podmínku - cokoliv, o čem umí Python rozhodnout, zda je to splěné nebo ne - zda je to True nebo False.\n",
        "Můžeme zde přímo zapsat True, nebo False, často zde píšeme operátory pro porovnání: <, >, ==, !=, <=j, >=."
      ]
    },
    {
      "cell_type": "markdown",
      "metadata": {
        "id": "R9swopG3jqOJ"
      },
      "source": [
        "\n",
        "\n",
        "```\n",
        "trabant.jed() # Provede se vždy\n",
        "\n",
        "if trabant.get_rychlost() > 50: # Zjišťuje rychlost trabantu a porovná\n",
        "    se s hodnotou 50\n",
        "    policista.dej_pokutu(trabant) # Provede se jen v případě, že\n",
        "    trabant jede rychleji než 50.\n",
        "    Pokud jede 50 a méně, řádek se přeskočí\n",
        "\n",
        "trabant.jed() # Provede se vždy\n",
        "```\n",
        "\n"
      ]
    },
    {
      "cell_type": "markdown",
      "metadata": {
        "id": "RqPkenbTke6i"
      },
      "source": [
        "# if-else"
      ]
    },
    {
      "cell_type": "markdown",
      "metadata": {
        "id": "Rs96ZAK1kjMj"
      },
      "source": [
        "Často chceme aby se pří splnění podmínky vykonaly některé příkazy a pří nesplnění se vykonaly jiné. Chceme tedy pomocí podmínky vybrat jednu ze dvou skupin příkazů. K tomu slouží konstrukce \"if-else\". Při splnění podmínky(True) se (stejně jako v obyčejném \"if\") provedou příkazy v části po \"if\". Při nesplnění podmínky(False) se provedou příkazy v části po \"else\". Jedna z těchto dvou skupin příkazů se tedy provede vždy."
      ]
    },
    {
      "cell_type": "markdown",
      "metadata": {
        "id": "dzIYGi79lJzz"
      },
      "source": [
        "\n",
        "\n",
        "```\n",
        "if trabant.get_body() > ferrari.get_body(): # Porovnání počtu bodů trabantu a ferrari\n",
        "    hra.set_vitez(trabant) # Pokud je podmínka splěnena == True, je vítěz trabant\n",
        "else:\n",
        "    hra.set_vitez(ferrari) # Pokud není splněna == False, je vítez ferrari\n",
        "```\n",
        "\n"
      ]
    },
    {
      "cell_type": "markdown",
      "metadata": {
        "id": "bNf6Gcg4l4Ci"
      },
      "source": [
        "Kontrolní otázka: Kdo je vítez, pokud mají stejný počet bodů?"
      ]
    },
    {
      "cell_type": "markdown",
      "metadata": {
        "id": "505XULZcmD73"
      },
      "source": [
        "# elif"
      ]
    },
    {
      "cell_type": "markdown",
      "metadata": {
        "id": "IqCYsNllmFPk"
      },
      "source": [
        "Opravíme předcházející kód. Někdy potřebujeme vybrat ne mezi dvěma příkazy, ale mezi více. K tomu slouží konstrukce \"elif\"(od slovního spojení \"else if\") - dovolí nám vložit další \"větev\". Takových větví může být libovolné množství a program se vydá vždy jen tou z nich, u které je podmínka splěnena jako první(kontrolováno od shora dolů). Pokud není splněna žádná z podmínek, vydá se program větví \"else\"."
      ]
    },
    {
      "cell_type": "markdown",
      "metadata": {
        "id": "Gw7_4ltim1ob"
      },
      "source": [
        "\n",
        "\n",
        "```\n",
        "# Provede se jen jeden z těchto příkazů - poté, co jedna z podmínek projde, se\n",
        "ostatní ani nekontrolují\n",
        "if trabant.get_body() > ferrari.get_body():\n",
        "    hra.set_vitez(trabant) \n",
        "elif ferrari.get_body() > trabant.get_body():\n",
        "    hra.set_vitez(ferrari) # \n",
        "else:\n",
        "    hra.set_vitez(\"remíza\") # \n",
        "```\n",
        "\n"
      ]
    },
    {
      "cell_type": "markdown",
      "metadata": {
        "id": "I5bgTEEInnFH"
      },
      "source": [
        "# Vnoření"
      ]
    },
    {
      "cell_type": "markdown",
      "metadata": {
        "id": "lkanv-1fnof6"
      },
      "source": [
        "Podmínky (stejně jako jiné řídící struktury) můžeme takzvaně vnořovat - tedy vkládat jednu do druhé."
      ]
    },
    {
      "cell_type": "markdown",
      "metadata": {
        "id": "yc6RRsWtny11"
      },
      "source": [
        "\n",
        "\n",
        "```\n",
        "if trabant.je_ve_meste(): # Zjištění zda je trabant ve městě, nebo mimo město\n",
        "    if trabant.get_rychlost() > 50: # Pokud je ve městě, porovnává se rychlost\n",
        "                                      s 50\n",
        "        policista.dej_pokutu(trabant)\n",
        "else: # Není ve městě\n",
        "    if trabant.get_rychlost() > 90: # Pokud není ve městě, porovnává\n",
        "                                      rychlost s 90\n",
        "        policista.dej_pokutu(trabant)\n",
        "```\n",
        "\n"
      ]
    },
    {
      "cell_type": "markdown",
      "metadata": {
        "id": "4g_irHJ-pDgt"
      },
      "source": [
        "# Cvičení"
      ]
    },
    {
      "cell_type": "markdown",
      "metadata": {
        "id": "-jsiqIhNst4_"
      },
      "source": [
        "# 1"
      ]
    },
    {
      "cell_type": "markdown",
      "metadata": {
        "id": "DQBKlFL6uAko"
      },
      "source": [
        "Pro zadaný věk pomocí podmínek vyhodnoť jestli je daný člověk dospívající, dospělý, nebo dítě. Využij vnořených podmínek a vypiš výsledek.\n",
        "\n",
        "> Dospělý >= 18, Dospívající >= 15, Dítě > 0\n",
        "\n"
      ]
    },
    {
      "cell_type": "code",
      "metadata": {
        "id": "XZ-zrGpouVbD"
      },
      "source": [
        "age = int(input(\"Zadejte vek: \"))"
      ],
      "execution_count": null,
      "outputs": []
    },
    {
      "cell_type": "markdown",
      "metadata": {
        "id": "61F_FhLYuy_e"
      },
      "source": [
        "Referenční řešení pro kontrolu:\n",
        "\n",
        "\n",
        "> Vstup 15, výstup \"dospivajici\"\n",
        "\n",
        "> Vstup 53, výstup \"dospely\"\n",
        "\n",
        "> Vstup 6, výstup \"dite\"\n",
        "\n",
        "\n",
        "\n",
        "\n",
        "\n",
        "\n",
        "\n",
        "\n",
        "\n"
      ]
    }
  ]
}