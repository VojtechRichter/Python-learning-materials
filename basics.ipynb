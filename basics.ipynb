{
 "cells": [
  {
   "cell_type": "markdown",
   "source": [
    "# Základní syntax, princip programování\r\n",
    "Program je tvořen \"posloupností\" příkazů. Pomocí jednotlivých příkazů říkáme počítači co má provést za operace.\r\n",
    "Při tvorbě programu je nejprve potřeba daný problém pochopit, a následně naimplementovat do tzv. kódu.\r\n",
    "Jediný rozdíl kterým se programovací jazyk Python liší od ostatních je absence závorek.\r\n",
    "Dobrým zvykem je psát kód v angličtině.\r\n",
    "Kód se zapisuje v řádcích. Program je po spuštění přeložen do strojového jazyka kterému rozumí procesor pomocí kompilátoru."
   ],
   "metadata": {}
  },
  {
   "cell_type": "markdown",
   "source": [
    "# Příkaz print\r\n",
    "Pomocí příkazu print vypíšeme libovolnou hodnotu na obrazovku(do konzole/příkazového řádku).\r\n",
    "Následující řádek kódu vypíše \"ahoj světe\".\r\n",
    "Čárka ve funkci print oddělí text mezerou."
   ],
   "metadata": {}
  },
  {
   "cell_type": "code",
   "execution_count": 3,
   "source": [
    "print(\"ahoj světe\")\r\n",
    "print(\"jedna\", \"dva\")"
   ],
   "outputs": [
    {
     "output_type": "stream",
     "name": "stdout",
     "text": [
      "ahoj světe\n",
      "jedna dva\n"
     ]
    }
   ],
   "metadata": {}
  },
  {
   "cell_type": "markdown",
   "source": [
    "# Proměnné\r\n",
    "Proměnná je místo v paměti počítače, kde je uložená libovolná hodnota(číslo, text).\r\n",
    "Každá proměnná má svoje může mít libovolné jméno a určitý datový typ(o datových typech bude řeč později).\r\n",
    "Zde vytvářím proměnnou `number` a ukládám do ní hodnotu 10.\r\n"
   ],
   "metadata": {}
  },
  {
   "cell_type": "code",
   "execution_count": null,
   "source": [
    "number = 10"
   ],
   "outputs": [],
   "metadata": {}
  },
  {
   "cell_type": "markdown",
   "source": [
    "# Příkaz input\r\n",
    "Funkce input se zeptá na vstup od uživatele.\r\n",
    "Může požadovat čistě jen vstup, nebo lze vypsat text před tím než bude očekávát vstup.\r\n",
    "Pomocí proměnné lze vstup od uživatele uložit, a to následovně."
   ],
   "metadata": {}
  },
  {
   "cell_type": "markdown",
   "source": [
    "Co vypíše následující blok kódu?"
   ],
   "metadata": {}
  },
  {
   "cell_type": "code",
   "execution_count": null,
   "source": [
    "user_input = input()\r\n",
    "user_input2 = input(\"Enter your favorite food: \")\r\n",
    "print(user_input, user_input2)"
   ],
   "outputs": [],
   "metadata": {}
  },
  {
   "cell_type": "markdown",
   "source": [
    "# Komentáře\r\n",
    "Komentáře jsou text který kompilátor nevidí, a nemá vliv na chod programu.\r\n",
    "Používají se většinou pro popis částí kódu pro např. lehčí nebo rychlejší pochopení.\r\n",
    "V pythonu vytvoříme komentář pomocí symbolu `#`. Python má pouze jednořádkové komentáře."
   ],
   "metadata": {}
  },
  {
   "cell_type": "code",
   "execution_count": null,
   "source": [
    "# komentář 1\r\n",
    "print(\"ahoj\") # další komentář\r\n",
    "# komentář 2\r\n"
   ],
   "outputs": [],
   "metadata": {}
  }
 ],
 "metadata": {
  "orig_nbformat": 4,
  "language_info": {
   "name": "python",
   "version": "3.9.5",
   "mimetype": "text/x-python",
   "codemirror_mode": {
    "name": "ipython",
    "version": 3
   },
   "pygments_lexer": "ipython3",
   "nbconvert_exporter": "python",
   "file_extension": ".py"
  },
  "kernelspec": {
   "name": "python3",
   "display_name": "Python 3.9.5 64-bit"
  },
  "interpreter": {
   "hash": "4690a46bf19826a064b130b852b5a95adf43f49c384d6da70bea0deb3c5cfe45"
  }
 },
 "nbformat": 4,
 "nbformat_minor": 2
}