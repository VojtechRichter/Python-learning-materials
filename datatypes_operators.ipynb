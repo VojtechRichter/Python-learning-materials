{
 "cells": [
  {
   "cell_type": "markdown",
   "source": [
    "# Datové typy\r\n",
    "Každá proměnná má svůj datový typ, a to podle toho, jakou v sobě drží hodnotu.\r\n",
    "Na levé straně je hodnota, kterou proměnná drží, a vpravo příslušný datový typ, v závorce zapsaný v Pythonu.\r\n",
    "Reálné číslo = integer(int)\r\n",
    "Text libovolné délky(řětězec) = string(str)\r\n",
    "Desetinné číslo = float(float)\r\n",
    "Pravda a nepravda(bit) = boolean(bool - True nebo False)\r\n",
    "\r\n"
   ],
   "metadata": {}
  },
  {
   "cell_type": "markdown",
   "source": [
    "# Funkce type()\r\n",
    "Funkce type nám vrátí datový typ proměnné kterou dáme do jejího argumentu.\r\n",
    "Pro vypsání výsledku funkce do konzole, použijeme funkci print"
   ],
   "metadata": {}
  },
  {
   "cell_type": "markdown",
   "source": [
    "Příklad použítí:"
   ],
   "metadata": {}
  },
  {
   "cell_type": "code",
   "execution_count": 3,
   "source": [
    "number = 34\r\n",
    "name = \"Honza\"\r\n",
    "boolean_value = False\r\n",
    "another_number = 56.981\r\n",
    "\r\n",
    "print(type(number))\r\n",
    "print(type(name))\r\n",
    "print(type(boolean_value))\r\n",
    "print(type(another_number))"
   ],
   "outputs": [
    {
     "output_type": "stream",
     "name": "stdout",
     "text": [
      "<class 'int'>\n",
      "<class 'str'>\n",
      "<class 'bool'>\n",
      "<class 'float'>\n"
     ]
    }
   ],
   "metadata": {}
  },
  {
   "cell_type": "markdown",
   "source": [
    "Co znamená slovo `class` zjistíme později."
   ],
   "metadata": {}
  },
  {
   "cell_type": "markdown",
   "source": [
    "# Přetypování\r\n",
    "Pomocí funkcionality přetypování lze datový typ proměnné přetypovat na jiný datový typ."
   ],
   "metadata": {}
  },
  {
   "cell_type": "code",
   "execution_count": null,
   "source": [
    "promenna = 64 # int\r\n",
    "promenna2 = float(promenna)\r\n",
    "cislo = 12\r\n",
    "retezec = str(cislo)"
   ],
   "outputs": [],
   "metadata": {}
  },
  {
   "cell_type": "markdown",
   "source": [
    "Přetypování se může hodit např. když chceme ze vstupu dostat přímo číslo, ne řetězec."
   ],
   "metadata": {}
  },
  {
   "cell_type": "code",
   "execution_count": null,
   "source": [
    "my_integer = int(input(\"Zadejte cislo:\"))"
   ],
   "outputs": [],
   "metadata": {}
  },
  {
   "cell_type": "markdown",
   "source": [
    "# Základní operátory a operace s nimi\r\n",
    "Operátory používame mezi dvěma hodnotami, např. ty matematické pro matematické operace."
   ],
   "metadata": {}
  },
  {
   "cell_type": "markdown",
   "source": [
    "Jak už šlo poznat z předchozích bloků kódu, operátor `=` přiřadí hodnotu z pravé strany do proměnné na levé straně."
   ],
   "metadata": {}
  },
  {
   "cell_type": "markdown",
   "source": [
    "||Matematické operátory||||\r\n",
    "|---|----------|---|---|---|\r\n",
    "| + | sčítání  |---|---|---|\r\n",
    "| - | odčítání |---|---|---|\r\n",
    "| * | násobení |---|---|---|\r\n",
    "| / | dělení   |---|---|---|\r\n",
    "|** |mocnina|---|---|---|\r\n",
    "|// |celočíselné dělění|---|---|---|\r\n",
    "| % |modulo|---|---|---|"
   ],
   "metadata": {}
  },
  {
   "cell_type": "markdown",
   "source": [
    "Celočíselné dělení nám vrátí zaokrouhlený výsledek dělení.\r\n",
    "Modulo nám vratí zbytek dělení."
   ],
   "metadata": {}
  },
  {
   "cell_type": "code",
   "execution_count": null,
   "source": [
    "scitani = 15 + 32 # 47\r\n",
    "odcitani = 65 - 7 # 58\r\n",
    "nasobeni = 6 * 2 # 18\r\n",
    "deleni = 42 / 6 # 7\r\n",
    "mocnina = 5 ** 2 # 25\r\n",
    "deleni2 = 10 // 3 # 3\r\n",
    "modulo = 30 % 7 # 2"
   ],
   "outputs": [],
   "metadata": {}
  },
  {
   "cell_type": "markdown",
   "source": [
    "Operátory mohou pracovat i proměnnými."
   ],
   "metadata": {}
  },
  {
   "cell_type": "code",
   "execution_count": null,
   "source": [
    "vysledek1 = scitani * odcitani\r\n",
    "vysledek2 = modulo + nasobeni"
   ],
   "outputs": [],
   "metadata": {}
  },
  {
   "cell_type": "markdown",
   "source": [
    "Dále existuje operátor `==` pro kontorolu rovnosti dvou hodnot. Výsledkem je buď True, nebo False."
   ],
   "metadata": {}
  },
  {
   "cell_type": "code",
   "execution_count": 4,
   "source": [
    "print(2 == 5)\r\n",
    "print(True == False)\r\n",
    "print(\"ahoj\" == \"ahoj\")\r\n",
    "print(\"jedna\" == \"dva\")"
   ],
   "outputs": [
    {
     "output_type": "stream",
     "name": "stdout",
     "text": [
      "False\n",
      "False\n",
      "True\n",
      "False\n"
     ]
    }
   ],
   "metadata": {}
  },
  {
   "cell_type": "markdown",
   "source": [
    "# Cvičení"
   ],
   "metadata": {}
  },
  {
   "cell_type": "markdown",
   "source": [
    "# 1"
   ],
   "metadata": {}
  },
  {
   "cell_type": "markdown",
   "source": [
    "Napiš program, který ze vstupu přijme dvě desetinná čísla. Jejich součet umocní na třetí, vydělí číslem pí(3.14).\r\n",
    "Na nový řádek vypíše výsledek mezera datový typ výsledku."
   ],
   "metadata": {}
  },
  {
   "cell_type": "markdown",
   "source": [
    "Příklady výsledků pro Vaší kontrolu:\r\n",
    "- 3568.657 <class 'float'>\r\n",
    "- 547.12 <class 'float'>\r\n",
    "- 1206.1548 <class 'float'>"
   ],
   "metadata": {}
  },
  {
   "cell_type": "markdown",
   "source": [
    "# 2"
   ],
   "metadata": {}
  },
  {
   "cell_type": "code",
   "execution_count": null,
   "source": [
    "Načtěte od uživatele celé číslo(užijte přetypování) a vynásobte ho dvěma. Načtěte druhé celé číslo, celočíselně ho vydělte,\r\n",
    "a vypište na obrazovku výsledek rovnosti těchto dvou čísel."
   ],
   "outputs": [],
   "metadata": {}
  },
  {
   "cell_type": "markdown",
   "source": [
    "Příklady výsledků pro Vaší kontrolu:\r\n",
    "- True\r\n",
    "- False\r\n",
    "- False"
   ],
   "metadata": {}
  },
  {
   "cell_type": "markdown",
   "source": [
    "# 3"
   ],
   "metadata": {}
  },
  {
   "cell_type": "markdown",
   "source": [
    "Načtěte ze vstupu libvolné číslo, umocněte modulo zadaného čísla na druhou, vydělte ho 1/4,\r\n",
    "a vypište jeho pátou mocninu.\r\n",
    "Na další řádek vypiště datový typ výsledného čísla."
   ],
   "metadata": {}
  },
  {
   "cell_type": "markdown",
   "source": [
    "Příklady výsledků pro Vaší kontrolu:\r\n",
    "- 235\r\n",
    "  <class 'int'>\r\n",
    "- 8971\r\n",
    "  <class 'int'>\r\n",
    "- 53.61\r\n",
    "  <class 'float'>"
   ],
   "metadata": {}
  }
 ],
 "metadata": {
  "orig_nbformat": 4,
  "language_info": {
   "name": "python",
   "version": "3.9.7",
   "mimetype": "text/x-python",
   "codemirror_mode": {
    "name": "ipython",
    "version": 3
   },
   "pygments_lexer": "ipython3",
   "nbconvert_exporter": "python",
   "file_extension": ".py"
  },
  "kernelspec": {
   "name": "python3",
   "display_name": "Python 3.9.7 64-bit (windows store)"
  },
  "interpreter": {
   "hash": "f50fc77e20a9bbc9d5ef6054f2f68d7d6c4ea5f01cdcf25c8f6a2136f5976a60"
  }
 },
 "nbformat": 4,
 "nbformat_minor": 2
}